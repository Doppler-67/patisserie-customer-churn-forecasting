{
  "cells": [
    {
      "cell_type": "markdown",
      "metadata": {
        "id": "view-in-github",
        "colab_type": "text"
      },
      "source": [
        "<a href=\"https://colab.research.google.com/github/Doppler-67/patisserie-customer-churn-forecasting/blob/main/patissiere.ipynb\" target=\"_parent\"><img src=\"https://colab.research.google.com/assets/colab-badge.svg\" alt=\"Open In Colab\"/></a>"
      ]
    },
    {
      "cell_type": "markdown",
      "metadata": {
        "id": "g-YVjeRqdKJq"
      },
      "source": [
        "**Цель проекта:**\n",
        "\n",
        "Разработка ML модели для прогнозирования оттока клиентов.\n",
        "\n",
        "Отдел маркетинга крупной сети кондитерских планирует промо акцию для удержания клиентов. Акция заключается в предоставлении скидки в 25 % тем клиентам, которые с высокой вероятностью перейдут к конкурентам.\n",
        "\n",
        "**Описание данных:**\n",
        "\n",
        "Для прогнозирования используются данные о покупках юзеров за период 2021 года. Всего доступно больше 2 млн. строк. Флаг оттока проставляется, если после покупки юзера прошло больше 45 дней. Поведение юзера описывается историей его покупок, суммой чека и размером скидки к чеку. В компании действует программа лояльности, участвуя в которой юзеры получают скидку на любую покупку и могут получать дополнительные скидки по разным промо-акциям."
      ]
    },
    {
      "cell_type": "markdown",
      "source": [
        "\n",
        "⭕ *Более подробная информация находится в README файле.*  "
      ],
      "metadata": {
        "id": "JFugMOCHApPe"
      }
    },
    {
      "cell_type": "markdown",
      "source": [
        "# **Importing libraries**"
      ],
      "metadata": {
        "id": "YbLI1G1CAse1"
      }
    },
    {
      "cell_type": "code",
      "execution_count": 1,
      "metadata": {
        "id": "0oZZKzIQcjX7"
      },
      "outputs": [],
      "source": [
        "import matplotlib.pyplot as plt\n",
        "import seaborn as sns\n",
        "import pandas as pd\n",
        "import numpy as np\n",
        "import shap\n",
        "\n",
        "from sklearn.model_selection import train_test_split, cross_val_score, RandomizedSearchCV\n",
        "from sklearn.metrics import roc_curve, auc, roc_auc_score\n",
        "from sklearn.ensemble import RandomForestClassifier\n",
        "from sklearn.linear_model import LogisticRegression\n",
        "from xgboost import XGBClassifier, plot_importance\n",
        "\n",
        "import warnings\n",
        "warnings.filterwarnings('ignore')"
      ]
    },
    {
      "cell_type": "code",
      "execution_count": 2,
      "metadata": {
        "id": "SXsxmlC4cjX8"
      },
      "outputs": [],
      "source": [
        "sns.set()"
      ]
    },
    {
      "cell_type": "markdown",
      "metadata": {
        "id": "E39YELvHYvs0"
      },
      "source": [
        "# **Data understanding**"
      ]
    },
    {
      "cell_type": "code",
      "execution_count": 3,
      "metadata": {
        "id": "5v1t9dcPXIin"
      },
      "outputs": [],
      "source": [
        "features = pd.read_csv('/content/drive/MyDrive/patisserie_ds_project/data.csv')\n",
        "target = pd.read_csv('/content/drive/MyDrive/patisserie_ds_project/target.csv')"
      ]
    },
    {
      "cell_type": "code",
      "execution_count": 4,
      "metadata": {
        "colab": {
          "base_uri": "https://localhost:8080/",
          "height": 206
        },
        "id": "Rx0NhAj0X_kj",
        "outputId": "b4d575b7-9cfb-4f9c-d6bc-802aac1685c0"
      },
      "outputs": [
        {
          "output_type": "execute_result",
          "data": {
            "text/plain": [
              "                                clnt_ID                timestamp    gest_Sum  \\\n",
              "0  193B4268-0B4A-475E-B1D0-FF5515E29D29  2021-01-02 09:09:17.060  900.000000   \n",
              "1  8DA65A37-C1D0-41D4-98E1-AB6C5BF1367F  2021-01-02 09:12:24.850  165.000000   \n",
              "2  26ACF3C8-25C8-4345-ABC2-33DA15EA6454  2021-01-02 09:38:21.643  800.500000   \n",
              "3  0F77DDB3-A9A7-44BE-AAAB-9DF59B66A695  2021-01-02 09:45:17.793  580.000000   \n",
              "4  F16BCF77-FA5A-4093-B7E3-FA86E2B1EA31  2021-01-02 09:59:50.453  148.899994   \n",
              "\n",
              "   gest_Discount  \n",
              "0          300.0  \n",
              "1           55.0  \n",
              "2           25.5  \n",
              "3            0.0  \n",
              "4            3.1  "
            ],
            "text/html": [
              "\n",
              "  <div id=\"df-ce5bf3b7-68c6-4d73-8b11-6953b21f80df\">\n",
              "    <div class=\"colab-df-container\">\n",
              "      <div>\n",
              "<style scoped>\n",
              "    .dataframe tbody tr th:only-of-type {\n",
              "        vertical-align: middle;\n",
              "    }\n",
              "\n",
              "    .dataframe tbody tr th {\n",
              "        vertical-align: top;\n",
              "    }\n",
              "\n",
              "    .dataframe thead th {\n",
              "        text-align: right;\n",
              "    }\n",
              "</style>\n",
              "<table border=\"1\" class=\"dataframe\">\n",
              "  <thead>\n",
              "    <tr style=\"text-align: right;\">\n",
              "      <th></th>\n",
              "      <th>clnt_ID</th>\n",
              "      <th>timestamp</th>\n",
              "      <th>gest_Sum</th>\n",
              "      <th>gest_Discount</th>\n",
              "    </tr>\n",
              "  </thead>\n",
              "  <tbody>\n",
              "    <tr>\n",
              "      <th>0</th>\n",
              "      <td>193B4268-0B4A-475E-B1D0-FF5515E29D29</td>\n",
              "      <td>2021-01-02 09:09:17.060</td>\n",
              "      <td>900.000000</td>\n",
              "      <td>300.0</td>\n",
              "    </tr>\n",
              "    <tr>\n",
              "      <th>1</th>\n",
              "      <td>8DA65A37-C1D0-41D4-98E1-AB6C5BF1367F</td>\n",
              "      <td>2021-01-02 09:12:24.850</td>\n",
              "      <td>165.000000</td>\n",
              "      <td>55.0</td>\n",
              "    </tr>\n",
              "    <tr>\n",
              "      <th>2</th>\n",
              "      <td>26ACF3C8-25C8-4345-ABC2-33DA15EA6454</td>\n",
              "      <td>2021-01-02 09:38:21.643</td>\n",
              "      <td>800.500000</td>\n",
              "      <td>25.5</td>\n",
              "    </tr>\n",
              "    <tr>\n",
              "      <th>3</th>\n",
              "      <td>0F77DDB3-A9A7-44BE-AAAB-9DF59B66A695</td>\n",
              "      <td>2021-01-02 09:45:17.793</td>\n",
              "      <td>580.000000</td>\n",
              "      <td>0.0</td>\n",
              "    </tr>\n",
              "    <tr>\n",
              "      <th>4</th>\n",
              "      <td>F16BCF77-FA5A-4093-B7E3-FA86E2B1EA31</td>\n",
              "      <td>2021-01-02 09:59:50.453</td>\n",
              "      <td>148.899994</td>\n",
              "      <td>3.1</td>\n",
              "    </tr>\n",
              "  </tbody>\n",
              "</table>\n",
              "</div>\n",
              "      <button class=\"colab-df-convert\" onclick=\"convertToInteractive('df-ce5bf3b7-68c6-4d73-8b11-6953b21f80df')\"\n",
              "              title=\"Convert this dataframe to an interactive table.\"\n",
              "              style=\"display:none;\">\n",
              "        \n",
              "  <svg xmlns=\"http://www.w3.org/2000/svg\" height=\"24px\"viewBox=\"0 0 24 24\"\n",
              "       width=\"24px\">\n",
              "    <path d=\"M0 0h24v24H0V0z\" fill=\"none\"/>\n",
              "    <path d=\"M18.56 5.44l.94 2.06.94-2.06 2.06-.94-2.06-.94-.94-2.06-.94 2.06-2.06.94zm-11 1L8.5 8.5l.94-2.06 2.06-.94-2.06-.94L8.5 2.5l-.94 2.06-2.06.94zm10 10l.94 2.06.94-2.06 2.06-.94-2.06-.94-.94-2.06-.94 2.06-2.06.94z\"/><path d=\"M17.41 7.96l-1.37-1.37c-.4-.4-.92-.59-1.43-.59-.52 0-1.04.2-1.43.59L10.3 9.45l-7.72 7.72c-.78.78-.78 2.05 0 2.83L4 21.41c.39.39.9.59 1.41.59.51 0 1.02-.2 1.41-.59l7.78-7.78 2.81-2.81c.8-.78.8-2.07 0-2.86zM5.41 20L4 18.59l7.72-7.72 1.47 1.35L5.41 20z\"/>\n",
              "  </svg>\n",
              "      </button>\n",
              "      \n",
              "  <style>\n",
              "    .colab-df-container {\n",
              "      display:flex;\n",
              "      flex-wrap:wrap;\n",
              "      gap: 12px;\n",
              "    }\n",
              "\n",
              "    .colab-df-convert {\n",
              "      background-color: #E8F0FE;\n",
              "      border: none;\n",
              "      border-radius: 50%;\n",
              "      cursor: pointer;\n",
              "      display: none;\n",
              "      fill: #1967D2;\n",
              "      height: 32px;\n",
              "      padding: 0 0 0 0;\n",
              "      width: 32px;\n",
              "    }\n",
              "\n",
              "    .colab-df-convert:hover {\n",
              "      background-color: #E2EBFA;\n",
              "      box-shadow: 0px 1px 2px rgba(60, 64, 67, 0.3), 0px 1px 3px 1px rgba(60, 64, 67, 0.15);\n",
              "      fill: #174EA6;\n",
              "    }\n",
              "\n",
              "    [theme=dark] .colab-df-convert {\n",
              "      background-color: #3B4455;\n",
              "      fill: #D2E3FC;\n",
              "    }\n",
              "\n",
              "    [theme=dark] .colab-df-convert:hover {\n",
              "      background-color: #434B5C;\n",
              "      box-shadow: 0px 1px 3px 1px rgba(0, 0, 0, 0.15);\n",
              "      filter: drop-shadow(0px 1px 2px rgba(0, 0, 0, 0.3));\n",
              "      fill: #FFFFFF;\n",
              "    }\n",
              "  </style>\n",
              "\n",
              "      <script>\n",
              "        const buttonEl =\n",
              "          document.querySelector('#df-ce5bf3b7-68c6-4d73-8b11-6953b21f80df button.colab-df-convert');\n",
              "        buttonEl.style.display =\n",
              "          google.colab.kernel.accessAllowed ? 'block' : 'none';\n",
              "\n",
              "        async function convertToInteractive(key) {\n",
              "          const element = document.querySelector('#df-ce5bf3b7-68c6-4d73-8b11-6953b21f80df');\n",
              "          const dataTable =\n",
              "            await google.colab.kernel.invokeFunction('convertToInteractive',\n",
              "                                                     [key], {});\n",
              "          if (!dataTable) return;\n",
              "\n",
              "          const docLinkHtml = 'Like what you see? Visit the ' +\n",
              "            '<a target=\"_blank\" href=https://colab.research.google.com/notebooks/data_table.ipynb>data table notebook</a>'\n",
              "            + ' to learn more about interactive tables.';\n",
              "          element.innerHTML = '';\n",
              "          dataTable['output_type'] = 'display_data';\n",
              "          await google.colab.output.renderOutput(dataTable, element);\n",
              "          const docLink = document.createElement('div');\n",
              "          docLink.innerHTML = docLinkHtml;\n",
              "          element.appendChild(docLink);\n",
              "        }\n",
              "      </script>\n",
              "    </div>\n",
              "  </div>\n",
              "  "
            ]
          },
          "metadata": {},
          "execution_count": 4
        }
      ],
      "source": [
        "features.head()"
      ]
    },
    {
      "cell_type": "code",
      "execution_count": 5,
      "metadata": {
        "colab": {
          "base_uri": "https://localhost:8080/",
          "height": 206
        },
        "id": "nRlngdVdYDQd",
        "outputId": "e85efc99-210f-4a3f-ad07-b53f0e346221"
      },
      "outputs": [
        {
          "output_type": "execute_result",
          "data": {
            "text/plain": [
              "                                clnt_ID  target\n",
              "0  000070A8-DB9E-4AB7-8C4D-6169D4AEBB2A       1\n",
              "1  00007EB0-6331-438E-A917-E9840C260876       0\n",
              "2  0000993D-A30E-4233-AB3F-D368D9A0D2C4       1\n",
              "3  0000A724-7BC5-408F-9F16-6CC3AB16322F       0\n",
              "4  0000B90C-56DE-43C2-A213-624AFBE36DB2       0"
            ],
            "text/html": [
              "\n",
              "  <div id=\"df-52ccc577-653e-4a4c-aa02-2ab447aebc46\">\n",
              "    <div class=\"colab-df-container\">\n",
              "      <div>\n",
              "<style scoped>\n",
              "    .dataframe tbody tr th:only-of-type {\n",
              "        vertical-align: middle;\n",
              "    }\n",
              "\n",
              "    .dataframe tbody tr th {\n",
              "        vertical-align: top;\n",
              "    }\n",
              "\n",
              "    .dataframe thead th {\n",
              "        text-align: right;\n",
              "    }\n",
              "</style>\n",
              "<table border=\"1\" class=\"dataframe\">\n",
              "  <thead>\n",
              "    <tr style=\"text-align: right;\">\n",
              "      <th></th>\n",
              "      <th>clnt_ID</th>\n",
              "      <th>target</th>\n",
              "    </tr>\n",
              "  </thead>\n",
              "  <tbody>\n",
              "    <tr>\n",
              "      <th>0</th>\n",
              "      <td>000070A8-DB9E-4AB7-8C4D-6169D4AEBB2A</td>\n",
              "      <td>1</td>\n",
              "    </tr>\n",
              "    <tr>\n",
              "      <th>1</th>\n",
              "      <td>00007EB0-6331-438E-A917-E9840C260876</td>\n",
              "      <td>0</td>\n",
              "    </tr>\n",
              "    <tr>\n",
              "      <th>2</th>\n",
              "      <td>0000993D-A30E-4233-AB3F-D368D9A0D2C4</td>\n",
              "      <td>1</td>\n",
              "    </tr>\n",
              "    <tr>\n",
              "      <th>3</th>\n",
              "      <td>0000A724-7BC5-408F-9F16-6CC3AB16322F</td>\n",
              "      <td>0</td>\n",
              "    </tr>\n",
              "    <tr>\n",
              "      <th>4</th>\n",
              "      <td>0000B90C-56DE-43C2-A213-624AFBE36DB2</td>\n",
              "      <td>0</td>\n",
              "    </tr>\n",
              "  </tbody>\n",
              "</table>\n",
              "</div>\n",
              "      <button class=\"colab-df-convert\" onclick=\"convertToInteractive('df-52ccc577-653e-4a4c-aa02-2ab447aebc46')\"\n",
              "              title=\"Convert this dataframe to an interactive table.\"\n",
              "              style=\"display:none;\">\n",
              "        \n",
              "  <svg xmlns=\"http://www.w3.org/2000/svg\" height=\"24px\"viewBox=\"0 0 24 24\"\n",
              "       width=\"24px\">\n",
              "    <path d=\"M0 0h24v24H0V0z\" fill=\"none\"/>\n",
              "    <path d=\"M18.56 5.44l.94 2.06.94-2.06 2.06-.94-2.06-.94-.94-2.06-.94 2.06-2.06.94zm-11 1L8.5 8.5l.94-2.06 2.06-.94-2.06-.94L8.5 2.5l-.94 2.06-2.06.94zm10 10l.94 2.06.94-2.06 2.06-.94-2.06-.94-.94-2.06-.94 2.06-2.06.94z\"/><path d=\"M17.41 7.96l-1.37-1.37c-.4-.4-.92-.59-1.43-.59-.52 0-1.04.2-1.43.59L10.3 9.45l-7.72 7.72c-.78.78-.78 2.05 0 2.83L4 21.41c.39.39.9.59 1.41.59.51 0 1.02-.2 1.41-.59l7.78-7.78 2.81-2.81c.8-.78.8-2.07 0-2.86zM5.41 20L4 18.59l7.72-7.72 1.47 1.35L5.41 20z\"/>\n",
              "  </svg>\n",
              "      </button>\n",
              "      \n",
              "  <style>\n",
              "    .colab-df-container {\n",
              "      display:flex;\n",
              "      flex-wrap:wrap;\n",
              "      gap: 12px;\n",
              "    }\n",
              "\n",
              "    .colab-df-convert {\n",
              "      background-color: #E8F0FE;\n",
              "      border: none;\n",
              "      border-radius: 50%;\n",
              "      cursor: pointer;\n",
              "      display: none;\n",
              "      fill: #1967D2;\n",
              "      height: 32px;\n",
              "      padding: 0 0 0 0;\n",
              "      width: 32px;\n",
              "    }\n",
              "\n",
              "    .colab-df-convert:hover {\n",
              "      background-color: #E2EBFA;\n",
              "      box-shadow: 0px 1px 2px rgba(60, 64, 67, 0.3), 0px 1px 3px 1px rgba(60, 64, 67, 0.15);\n",
              "      fill: #174EA6;\n",
              "    }\n",
              "\n",
              "    [theme=dark] .colab-df-convert {\n",
              "      background-color: #3B4455;\n",
              "      fill: #D2E3FC;\n",
              "    }\n",
              "\n",
              "    [theme=dark] .colab-df-convert:hover {\n",
              "      background-color: #434B5C;\n",
              "      box-shadow: 0px 1px 3px 1px rgba(0, 0, 0, 0.15);\n",
              "      filter: drop-shadow(0px 1px 2px rgba(0, 0, 0, 0.3));\n",
              "      fill: #FFFFFF;\n",
              "    }\n",
              "  </style>\n",
              "\n",
              "      <script>\n",
              "        const buttonEl =\n",
              "          document.querySelector('#df-52ccc577-653e-4a4c-aa02-2ab447aebc46 button.colab-df-convert');\n",
              "        buttonEl.style.display =\n",
              "          google.colab.kernel.accessAllowed ? 'block' : 'none';\n",
              "\n",
              "        async function convertToInteractive(key) {\n",
              "          const element = document.querySelector('#df-52ccc577-653e-4a4c-aa02-2ab447aebc46');\n",
              "          const dataTable =\n",
              "            await google.colab.kernel.invokeFunction('convertToInteractive',\n",
              "                                                     [key], {});\n",
              "          if (!dataTable) return;\n",
              "\n",
              "          const docLinkHtml = 'Like what you see? Visit the ' +\n",
              "            '<a target=\"_blank\" href=https://colab.research.google.com/notebooks/data_table.ipynb>data table notebook</a>'\n",
              "            + ' to learn more about interactive tables.';\n",
              "          element.innerHTML = '';\n",
              "          dataTable['output_type'] = 'display_data';\n",
              "          await google.colab.output.renderOutput(dataTable, element);\n",
              "          const docLink = document.createElement('div');\n",
              "          docLink.innerHTML = docLinkHtml;\n",
              "          element.appendChild(docLink);\n",
              "        }\n",
              "      </script>\n",
              "    </div>\n",
              "  </div>\n",
              "  "
            ]
          },
          "metadata": {},
          "execution_count": 5
        }
      ],
      "source": [
        "target.head()"
      ]
    },
    {
      "cell_type": "code",
      "execution_count": 6,
      "metadata": {
        "colab": {
          "base_uri": "https://localhost:8080/"
        },
        "id": "P5-NcEF4YHue",
        "outputId": "f09f9b4c-1c7e-42ad-f78b-ebc0007a712b"
      },
      "outputs": [
        {
          "output_type": "stream",
          "name": "stdout",
          "text": [
            "<class 'pandas.core.frame.DataFrame'>\n",
            "RangeIndex: 2371635 entries, 0 to 2371634\n",
            "Data columns (total 4 columns):\n",
            " #   Column         Dtype  \n",
            "---  ------         -----  \n",
            " 0   clnt_ID        object \n",
            " 1   timestamp      object \n",
            " 2   gest_Sum       float64\n",
            " 3   gest_Discount  float64\n",
            "dtypes: float64(2), object(2)\n",
            "memory usage: 72.4+ MB\n"
          ]
        }
      ],
      "source": [
        "features.info()"
      ]
    },
    {
      "cell_type": "code",
      "execution_count": 7,
      "metadata": {
        "colab": {
          "base_uri": "https://localhost:8080/",
          "height": 300
        },
        "id": "52K0PP63cjX_",
        "outputId": "033fcb1d-3d79-4d65-cc67-83cbf8a40c20"
      },
      "outputs": [
        {
          "output_type": "execute_result",
          "data": {
            "text/plain": [
              "           gest_Sum  gest_Discount\n",
              "count  2.371635e+06   2.371635e+06\n",
              "mean   4.526306e+02   4.146638e+01\n",
              "std    4.148021e+02   8.452944e+01\n",
              "min    0.000000e+00   0.000000e+00\n",
              "25%    1.953000e+02   3.100000e+00\n",
              "50%    3.408000e+02   1.400000e+01\n",
              "75%    5.782000e+02   4.470000e+01\n",
              "max    2.350000e+04   3.957500e+03"
            ],
            "text/html": [
              "\n",
              "  <div id=\"df-e738de8c-4676-4ac8-a5aa-d2e8cc9577d2\">\n",
              "    <div class=\"colab-df-container\">\n",
              "      <div>\n",
              "<style scoped>\n",
              "    .dataframe tbody tr th:only-of-type {\n",
              "        vertical-align: middle;\n",
              "    }\n",
              "\n",
              "    .dataframe tbody tr th {\n",
              "        vertical-align: top;\n",
              "    }\n",
              "\n",
              "    .dataframe thead th {\n",
              "        text-align: right;\n",
              "    }\n",
              "</style>\n",
              "<table border=\"1\" class=\"dataframe\">\n",
              "  <thead>\n",
              "    <tr style=\"text-align: right;\">\n",
              "      <th></th>\n",
              "      <th>gest_Sum</th>\n",
              "      <th>gest_Discount</th>\n",
              "    </tr>\n",
              "  </thead>\n",
              "  <tbody>\n",
              "    <tr>\n",
              "      <th>count</th>\n",
              "      <td>2.371635e+06</td>\n",
              "      <td>2.371635e+06</td>\n",
              "    </tr>\n",
              "    <tr>\n",
              "      <th>mean</th>\n",
              "      <td>4.526306e+02</td>\n",
              "      <td>4.146638e+01</td>\n",
              "    </tr>\n",
              "    <tr>\n",
              "      <th>std</th>\n",
              "      <td>4.148021e+02</td>\n",
              "      <td>8.452944e+01</td>\n",
              "    </tr>\n",
              "    <tr>\n",
              "      <th>min</th>\n",
              "      <td>0.000000e+00</td>\n",
              "      <td>0.000000e+00</td>\n",
              "    </tr>\n",
              "    <tr>\n",
              "      <th>25%</th>\n",
              "      <td>1.953000e+02</td>\n",
              "      <td>3.100000e+00</td>\n",
              "    </tr>\n",
              "    <tr>\n",
              "      <th>50%</th>\n",
              "      <td>3.408000e+02</td>\n",
              "      <td>1.400000e+01</td>\n",
              "    </tr>\n",
              "    <tr>\n",
              "      <th>75%</th>\n",
              "      <td>5.782000e+02</td>\n",
              "      <td>4.470000e+01</td>\n",
              "    </tr>\n",
              "    <tr>\n",
              "      <th>max</th>\n",
              "      <td>2.350000e+04</td>\n",
              "      <td>3.957500e+03</td>\n",
              "    </tr>\n",
              "  </tbody>\n",
              "</table>\n",
              "</div>\n",
              "      <button class=\"colab-df-convert\" onclick=\"convertToInteractive('df-e738de8c-4676-4ac8-a5aa-d2e8cc9577d2')\"\n",
              "              title=\"Convert this dataframe to an interactive table.\"\n",
              "              style=\"display:none;\">\n",
              "        \n",
              "  <svg xmlns=\"http://www.w3.org/2000/svg\" height=\"24px\"viewBox=\"0 0 24 24\"\n",
              "       width=\"24px\">\n",
              "    <path d=\"M0 0h24v24H0V0z\" fill=\"none\"/>\n",
              "    <path d=\"M18.56 5.44l.94 2.06.94-2.06 2.06-.94-2.06-.94-.94-2.06-.94 2.06-2.06.94zm-11 1L8.5 8.5l.94-2.06 2.06-.94-2.06-.94L8.5 2.5l-.94 2.06-2.06.94zm10 10l.94 2.06.94-2.06 2.06-.94-2.06-.94-.94-2.06-.94 2.06-2.06.94z\"/><path d=\"M17.41 7.96l-1.37-1.37c-.4-.4-.92-.59-1.43-.59-.52 0-1.04.2-1.43.59L10.3 9.45l-7.72 7.72c-.78.78-.78 2.05 0 2.83L4 21.41c.39.39.9.59 1.41.59.51 0 1.02-.2 1.41-.59l7.78-7.78 2.81-2.81c.8-.78.8-2.07 0-2.86zM5.41 20L4 18.59l7.72-7.72 1.47 1.35L5.41 20z\"/>\n",
              "  </svg>\n",
              "      </button>\n",
              "      \n",
              "  <style>\n",
              "    .colab-df-container {\n",
              "      display:flex;\n",
              "      flex-wrap:wrap;\n",
              "      gap: 12px;\n",
              "    }\n",
              "\n",
              "    .colab-df-convert {\n",
              "      background-color: #E8F0FE;\n",
              "      border: none;\n",
              "      border-radius: 50%;\n",
              "      cursor: pointer;\n",
              "      display: none;\n",
              "      fill: #1967D2;\n",
              "      height: 32px;\n",
              "      padding: 0 0 0 0;\n",
              "      width: 32px;\n",
              "    }\n",
              "\n",
              "    .colab-df-convert:hover {\n",
              "      background-color: #E2EBFA;\n",
              "      box-shadow: 0px 1px 2px rgba(60, 64, 67, 0.3), 0px 1px 3px 1px rgba(60, 64, 67, 0.15);\n",
              "      fill: #174EA6;\n",
              "    }\n",
              "\n",
              "    [theme=dark] .colab-df-convert {\n",
              "      background-color: #3B4455;\n",
              "      fill: #D2E3FC;\n",
              "    }\n",
              "\n",
              "    [theme=dark] .colab-df-convert:hover {\n",
              "      background-color: #434B5C;\n",
              "      box-shadow: 0px 1px 3px 1px rgba(0, 0, 0, 0.15);\n",
              "      filter: drop-shadow(0px 1px 2px rgba(0, 0, 0, 0.3));\n",
              "      fill: #FFFFFF;\n",
              "    }\n",
              "  </style>\n",
              "\n",
              "      <script>\n",
              "        const buttonEl =\n",
              "          document.querySelector('#df-e738de8c-4676-4ac8-a5aa-d2e8cc9577d2 button.colab-df-convert');\n",
              "        buttonEl.style.display =\n",
              "          google.colab.kernel.accessAllowed ? 'block' : 'none';\n",
              "\n",
              "        async function convertToInteractive(key) {\n",
              "          const element = document.querySelector('#df-e738de8c-4676-4ac8-a5aa-d2e8cc9577d2');\n",
              "          const dataTable =\n",
              "            await google.colab.kernel.invokeFunction('convertToInteractive',\n",
              "                                                     [key], {});\n",
              "          if (!dataTable) return;\n",
              "\n",
              "          const docLinkHtml = 'Like what you see? Visit the ' +\n",
              "            '<a target=\"_blank\" href=https://colab.research.google.com/notebooks/data_table.ipynb>data table notebook</a>'\n",
              "            + ' to learn more about interactive tables.';\n",
              "          element.innerHTML = '';\n",
              "          dataTable['output_type'] = 'display_data';\n",
              "          await google.colab.output.renderOutput(dataTable, element);\n",
              "          const docLink = document.createElement('div');\n",
              "          docLink.innerHTML = docLinkHtml;\n",
              "          element.appendChild(docLink);\n",
              "        }\n",
              "      </script>\n",
              "    </div>\n",
              "  </div>\n",
              "  "
            ]
          },
          "metadata": {},
          "execution_count": 7
        }
      ],
      "source": [
        "features.describe()"
      ]
    },
    {
      "cell_type": "code",
      "execution_count": 8,
      "metadata": {
        "colab": {
          "base_uri": "https://localhost:8080/"
        },
        "id": "vxoJE4U7YTkZ",
        "outputId": "5b10f2bf-aaad-41b1-fa22-9fe9cf2b12cb"
      },
      "outputs": [
        {
          "output_type": "stream",
          "name": "stdout",
          "text": [
            "<class 'pandas.core.frame.DataFrame'>\n",
            "RangeIndex: 255109 entries, 0 to 255108\n",
            "Data columns (total 2 columns):\n",
            " #   Column   Non-Null Count   Dtype \n",
            "---  ------   --------------   ----- \n",
            " 0   clnt_ID  255109 non-null  object\n",
            " 1   target   255109 non-null  int64 \n",
            "dtypes: int64(1), object(1)\n",
            "memory usage: 3.9+ MB\n"
          ]
        }
      ],
      "source": [
        "target.info()"
      ]
    },
    {
      "cell_type": "markdown",
      "metadata": {
        "id": "AbnNcaLIsk2z"
      },
      "source": [
        "Нам доступно более 2.37млн покупок людей с указанием id покупателя, даты покупки, суммы заказа и скидки заказа. Для начала нужно будет соединить две таблицы в одну. После этого нужно будет совершить предобработку: переименовать некоторые колонки, изменить тип данных у некоторых колонок, проверить данные на наличие дубликатов, проверить данные на наличие пропусков.  "
      ]
    },
    {
      "cell_type": "markdown",
      "metadata": {
        "id": "iikiAJL2YnTE"
      },
      "source": [
        "# **Data preparation**"
      ]
    },
    {
      "cell_type": "code",
      "execution_count": 9,
      "metadata": {
        "id": "CEcedeJlYW6H"
      },
      "outputs": [],
      "source": [
        "data = pd.merge(features, target, on = 'clnt_ID', how = 'left') "
      ]
    },
    {
      "cell_type": "code",
      "execution_count": 10,
      "metadata": {
        "id": "c9193WoR5M8k"
      },
      "outputs": [],
      "source": [
        "data = data.rename(columns = {'clnt_ID': 'client_id', 'timestamp': 'date', 'gest_Sum': 'gest_sum', \n",
        "                              'gest_Discount':'gest_discount'})\n",
        "target = target.rename(columns = {'clnt_ID': 'client_id'})"
      ]
    },
    {
      "cell_type": "markdown",
      "metadata": {
        "id": "Xz1RA2mB3_Oz"
      },
      "source": [
        "Изменим типы данных."
      ]
    },
    {
      "cell_type": "code",
      "execution_count": 11,
      "metadata": {
        "id": "70M5rF_K8l1d"
      },
      "outputs": [],
      "source": [
        "convert_dict = {'gest_sum': 'float32', 'gest_discount': 'float32','target': bool} # to save memory\n",
        "data = data.astype(convert_dict)\n",
        "data['date'] = pd.to_datetime(data['date'])\n",
        "target['target'] = target['target'].astype(bool)"
      ]
    },
    {
      "cell_type": "code",
      "execution_count": 12,
      "metadata": {
        "colab": {
          "base_uri": "https://localhost:8080/"
        },
        "id": "jKdc1gpo-iaZ",
        "outputId": "6ae086f2-d37e-4c5e-f1a6-5ae1c14d39f1"
      },
      "outputs": [
        {
          "output_type": "execute_result",
          "data": {
            "text/plain": [
              "129"
            ]
          },
          "metadata": {},
          "execution_count": 12
        }
      ],
      "source": [
        "data.duplicated().sum()"
      ]
    },
    {
      "cell_type": "markdown",
      "metadata": {
        "id": "eE8QRKsoAPpv"
      },
      "source": [
        "В данных присутсвует 129 дубликатов. Удалим их."
      ]
    },
    {
      "cell_type": "code",
      "execution_count": 13,
      "metadata": {
        "id": "3pi6yWaP_80w"
      },
      "outputs": [],
      "source": [
        "data = data.drop_duplicates().reset_index(drop = True)"
      ]
    },
    {
      "cell_type": "code",
      "execution_count": 14,
      "metadata": {
        "colab": {
          "base_uri": "https://localhost:8080/"
        },
        "id": "hQSLeZVMBrXS",
        "outputId": "a3001504-af4b-4cda-b9bb-fc1a98162183"
      },
      "outputs": [
        {
          "output_type": "execute_result",
          "data": {
            "text/plain": [
              "client_id        0\n",
              "date             0\n",
              "gest_sum         0\n",
              "gest_discount    0\n",
              "target           0\n",
              "dtype: int64"
            ]
          },
          "metadata": {},
          "execution_count": 14
        }
      ],
      "source": [
        "data.isnull().sum()"
      ]
    },
    {
      "cell_type": "markdown",
      "metadata": {
        "id": "okbOc5iZCmcg"
      },
      "source": [
        "Пропусков нет."
      ]
    },
    {
      "cell_type": "markdown",
      "metadata": {
        "id": "Yg1sesIQcjYE"
      },
      "source": [
        "В данных присутсвуют люди, которые совершили всего лишь одну покупку. Так как по одной покупке мало что можно сказать - удалим таких покупателей из данных."
      ]
    },
    {
      "cell_type": "code",
      "execution_count": 15,
      "metadata": {
        "id": "UEYCMNqLcjYF"
      },
      "outputs": [],
      "source": [
        "data['total_purchases'] = data.groupby('client_id')['date'].transform('count')"
      ]
    },
    {
      "cell_type": "code",
      "execution_count": 16,
      "metadata": {
        "id": "dInEtbwrcjYF"
      },
      "outputs": [],
      "source": [
        "data = data[data['total_purchases'] > 1]"
      ]
    },
    {
      "cell_type": "markdown",
      "source": [
        "В данных есть лик. Есть операции у отточных юзеров, в которых дельта между покупки >=45 дней. В этот момент юзер ушел в отток и эта запись уже не должна была попасть в датасет. Удалим такие строки."
      ],
      "metadata": {
        "id": "48esPnZcqN2n"
      }
    },
    {
      "cell_type": "code",
      "source": [
        "data['last_sale'] = data.groupby('client_id')['date'].transform('shift')\n",
        "data['delta'] = (data['last_sale'] - data['date']).dt.days\n",
        "data = data[~((data['target'] == 1) & (data['delta'] >=45))]\n",
        "data = data.drop(['last_sale', 'delta'], axis = 1)"
      ],
      "metadata": {
        "id": "GVPnNuYpqN_k"
      },
      "execution_count": 17,
      "outputs": []
    },
    {
      "cell_type": "code",
      "execution_count": 18,
      "metadata": {
        "colab": {
          "base_uri": "https://localhost:8080/"
        },
        "id": "2M-qLXyV6Dv7",
        "outputId": "926d82da-2e7c-4d39-caf3-fb1895422c1a"
      },
      "outputs": [
        {
          "output_type": "execute_result",
          "data": {
            "text/plain": [
              "3249"
            ]
          },
          "metadata": {},
          "execution_count": 18
        }
      ],
      "source": [
        "data[data['gest_sum'] == 0].shape[0]"
      ]
    },
    {
      "cell_type": "code",
      "source": [
        "data = data[data['gest_sum'] != 0]"
      ],
      "metadata": {
        "id": "wZPfmb-2AYj_"
      },
      "execution_count": 19,
      "outputs": []
    },
    {
      "cell_type": "markdown",
      "metadata": {
        "id": "nCNWhiDovBwq"
      },
      "source": [
        "В данных присутсвуют заказы с суммой 0 рублей. Возможно проводилась какая-то акция или это просто подарок от магазина. В результате предобработки были удалены дубликаты, некоторые колонки были переименованы, тип некоторых колонок был изменен, были удалены люди с одной покупкой, а также данные были проверены на наличие пропусков."
      ]
    },
    {
      "cell_type": "markdown",
      "metadata": {
        "id": "bE02cdjQIX6p"
      },
      "source": [
        "# **EDA**"
      ]
    },
    {
      "cell_type": "markdown",
      "source": [
        "Для того, чтобы распределение фичей было более нормальным - прологорифмируем их."
      ],
      "metadata": {
        "id": "0TbrIU1WyJvX"
      }
    },
    {
      "cell_type": "code",
      "execution_count": 20,
      "metadata": {
        "id": "FsgR9ubscjYI"
      },
      "outputs": [],
      "source": [
        "data = data.assign(log_gest_sum=np.log(data['gest_sum'] + 1), \n",
        "                   log_gest_discount = np.log(data['gest_discount'] + 1))"
      ]
    },
    {
      "cell_type": "code",
      "execution_count": 21,
      "metadata": {
        "colab": {
          "base_uri": "https://localhost:8080/",
          "height": 0
        },
        "id": "hmqNWr_ZzgTC",
        "outputId": "c7fae8df-1a47-4cc7-8f76-3f6f16618308"
      },
      "outputs": [
        {
          "output_type": "execute_result",
          "data": {
            "text/plain": [
              "Text(0.5, 1.0, 'log_gest_sum distribution')"
            ]
          },
          "metadata": {},
          "execution_count": 21
        },
        {
          "output_type": "display_data",
          "data": {
            "text/plain": [
              "<Figure size 864x648 with 1 Axes>"
            ],
            "image/png": "[encoded data removed]"
          },
          "metadata": {}
        }
      ],
      "source": [
        "plt.figure(figsize=(12, 9))\n",
        "sns.histplot(data['log_gest_sum'], bins=25) \n",
        "plt.title('log_gest_sum distribution')"
      ]
    },
    {
      "cell_type": "code",
      "execution_count": 22,
      "metadata": {
        "colab": {
          "base_uri": "https://localhost:8080/",
          "height": 0
        },
        "id": "SW0c0LxPzkHy",
        "outputId": "3aa1142a-c92e-4603-a9ea-1e0f812c762e"
      },
      "outputs": [
        {
          "output_type": "execute_result",
          "data": {
            "text/plain": [
              "Text(0.5, 1.0, 'log_gest_discount distribution')"
            ]
          },
          "metadata": {},
          "execution_count": 22
        },
        {
          "output_type": "display_data",
          "data": {
            "text/plain": [
              "<Figure size 864x648 with 1 Axes>"
            ],
            "image/png": "[encoded data removed]"
          },
          "metadata": {}
        }
      ],
      "source": [
        "plt.figure(figsize=(12, 9))\n",
        "sns.histplot(data['log_gest_discount'], bins=20) \n",
        "plt.title('log_gest_discount distribution')"
      ]
    },
    {
      "cell_type": "code",
      "execution_count": 23,
      "metadata": {
        "colab": {
          "base_uri": "https://localhost:8080/",
          "height": 0
        },
        "id": "Pd8TLT3cHYLO",
        "outputId": "e870ae28-c9cf-4c87-9dd6-d70008aa3704"
      },
      "outputs": [
        {
          "output_type": "execute_result",
          "data": {
            "text/plain": [
              "<matplotlib.axes._subplots.AxesSubplot at 0x7fb5a958bc50>"
            ]
          },
          "metadata": {},
          "execution_count": 23
        },
        {
          "output_type": "display_data",
          "data": {
            "text/plain": [
              "<Figure size 1296x648 with 1 Axes>"
            ],
            "image/png": "[encoded data removed]"
          },
          "metadata": {}
        }
      ],
      "source": [
        "plt.figure(figsize=(18, 9))\n",
        "plt.title('boxplot')\n",
        "sns.boxplot(data['log_gest_sum'], width=0.4)"
      ]
    },
    {
      "cell_type": "code",
      "execution_count": 24,
      "metadata": {
        "colab": {
          "base_uri": "https://localhost:8080/",
          "height": 0
        },
        "id": "MuDQLqmbIcv9",
        "outputId": "2e87e730-9290-440f-fdfc-863522d5f5ea"
      },
      "outputs": [
        {
          "output_type": "execute_result",
          "data": {
            "text/plain": [
              "<matplotlib.axes._subplots.AxesSubplot at 0x7fb5a95289d0>"
            ]
          },
          "metadata": {},
          "execution_count": 24
        },
        {
          "output_type": "display_data",
          "data": {
            "text/plain": [
              "<Figure size 1296x648 with 1 Axes>"
            ],
            "image/png": "[encoded data removed]"
          },
          "metadata": {}
        }
      ],
      "source": [
        "plt.figure(figsize=(18, 9))\n",
        "plt.title('boxplot')\n",
        "sns.boxplot(data['log_gest_discount'])"
      ]
    },
    {
      "cell_type": "markdown",
      "source": [
        "В колонках log_gest_sum и log_gest_discount присуствует очень много выбросов. Удалять все выбросы было бы ошибкой, удалим только те выбросы, у которых маленькая плотность."
      ],
      "metadata": {
        "id": "KwFz2NnEBBXk"
      }
    },
    {
      "cell_type": "code",
      "source": [
        "data = data[(data['log_gest_sum'] > 2.5) & (data['log_gest_sum'] < 9.5) & (data['log_gest_discount'] < 8)]"
      ],
      "metadata": {
        "id": "c-xNmCwXmaVk"
      },
      "execution_count": 25,
      "outputs": []
    },
    {
      "cell_type": "code",
      "execution_count": 26,
      "metadata": {
        "colab": {
          "base_uri": "https://localhost:8080/",
          "height": 0
        },
        "id": "Pt2rgoMFIkoC",
        "outputId": "02b2f4b9-8d25-4e34-e329-1285400982bf"
      },
      "outputs": [
        {
          "output_type": "execute_result",
          "data": {
            "text/plain": [
              "<matplotlib.axes._subplots.AxesSubplot at 0x7fb5a9456e90>"
            ]
          },
          "metadata": {},
          "execution_count": 26
        },
        {
          "output_type": "display_data",
          "data": {
            "text/plain": [
              "<Figure size 864x648 with 1 Axes>"
            ],
            "image/png": "[encoded data removed]"
          },
          "metadata": {}
        }
      ],
      "source": [
        "target['target'].value_counts().plot(kind='bar', title='target distribution', xlabel='classes', \n",
        "                                     ylabel='quantity', rot=1, color='orange', alpha =0.9, figsize=(12,9))"
      ]
    },
    {
      "cell_type": "markdown",
      "metadata": {
        "id": "rdObRZlOcjYL"
      },
      "source": [
        "В колонке target классы сбалансированы."
      ]
    },
    {
      "cell_type": "markdown",
      "source": [
        "**Feature engeneering**"
      ],
      "metadata": {
        "id": "MswoxxFvyamt"
      }
    },
    {
      "cell_type": "markdown",
      "source": [
        "Приступим к генерации новых фичей. Реализовывать генерацию новых фичей будем с помощью функций, для того чтобы потом можно было просто агрегировать новые данные."
      ],
      "metadata": {
        "id": "bAGMM3K4yfht"
      }
    },
    {
      "cell_type": "code",
      "source": [
        "def min_and_max(df):\n",
        "  '''adding new features: min_gest_sum, max_gest_sum'''\n",
        "  df['min_check'] = df.groupby('client_id')['log_gest_sum'].transform('min')\n",
        "  df['max_check'] = df.groupby('client_id')['log_gest_sum'].transform('max') \n",
        "  return df"
      ],
      "metadata": {
        "id": "wL0ZHeESfDlh"
      },
      "execution_count": 27,
      "outputs": []
    },
    {
      "cell_type": "code",
      "execution_count": 28,
      "metadata": {
        "id": "VIhXeOXEcjYM"
      },
      "outputs": [],
      "source": [
        "def avg_check_and_discount(df):\n",
        "    '''adding new features: avg_check and avg_discount'''\n",
        "    new_features = df.pivot_table(index = 'client_id', values = ['log_gest_sum', 'log_gest_discount'], aggfunc = 'mean').reset_index()\n",
        "    new_features.columns = ['client_id', 'avg_discount', 'avg_check']\n",
        "    df = df.merge(new_features, on = 'client_id', how = 'left')\n",
        "    return df"
      ]
    },
    {
      "cell_type": "code",
      "execution_count": 29,
      "metadata": {
        "id": "v8_RCMLZcjYM"
      },
      "outputs": [],
      "source": [
        "def avg_purchases_per_month(df):\n",
        "    '''adding new feature: avg_purchases_per_month'''\n",
        "    df['year_month'] = df['date'].dt.year.astype(str) + '-' + df['date'].dt.month.astype(str)\n",
        "    df['total_months'] = df.groupby('client_id')['year_month'].transform('nunique')\n",
        "    df['avg_purchases_per_month'] = df['total_purchases'] / df['total_months']\n",
        "    df = df.drop(['year_month','total_months'], axis = 1)\n",
        "    return df"
      ]
    },
    {
      "cell_type": "code",
      "execution_count": 30,
      "metadata": {
        "id": "FzcniptFcjYM"
      },
      "outputs": [],
      "source": [
        "def avg_days_between_purchases(df):\n",
        "    '''adding new feature: avg_days_between_purchases'''\n",
        "    delta_df = df.pivot_table(index = 'client_id', values = 'date', aggfunc = ['min', 'max']).reset_index()\n",
        "    delta_df.columns = ['client_id', 'min_date', 'max_date']\n",
        "    delta_df['delta'] = delta_df['max_date'] - delta_df['min_date']\n",
        "    delta_df['delta'] = delta_df['delta'].dt.days\n",
        "    delta_df = delta_df.drop(['min_date', 'max_date'], axis = 1)\n",
        "    df = df.merge(delta_df, on = 'client_id', how = 'left')\n",
        "    df['avg_days_between_purchases'] = df['delta'] / (df['total_purchases'] - 1)\n",
        "    df['avg_days_between_purchases'] = df['avg_days_between_purchases']\n",
        "    df = df.drop('delta', axis = 1)\n",
        "    return df"
      ]
    },
    {
      "cell_type": "code",
      "execution_count": 31,
      "metadata": {
        "id": "5cWz4aTecjYN"
      },
      "outputs": [],
      "source": [
        "def new_features(df):\n",
        "    '''adding 6 new features: avg_check, avg_discount, avg_purchases_per_month, avg_days_between_purchases, min_check, max_check''' \n",
        "    df = avg_check_and_discount(df)\n",
        "    df = avg_purchases_per_month(df)\n",
        "    df = avg_days_between_purchases(df)\n",
        "    df = min_and_max(df) \n",
        "    \n",
        "    convert_dict = {'total_purchases': 'int32', 'avg_purchases_per_month': 'float32',\n",
        "                    'avg_days_between_purchases': 'float32'}                \n",
        "    df = df.astype(convert_dict)\n",
        "    df = df.drop(['gest_sum', 'gest_discount', 'log_gest_sum', 'log_gest_discount', 'date'], axis = 1)\n",
        "    df = df.drop_duplicates().reset_index(drop = True)\n",
        "    return df"
      ]
    },
    {
      "cell_type": "code",
      "execution_count": 32,
      "metadata": {
        "id": "QNu8VGqccjYN"
      },
      "outputs": [],
      "source": [
        "data = new_features(data)"
      ]
    },
    {
      "cell_type": "markdown",
      "source": [
        "Итого было добавлено 7 фичей:\n",
        "*   *avg_check* - средний чек.\n",
        "*   *total_purchases* - суммарное кол-во покупок.\n",
        "*   *avg_discount* - средняя скидка на покупку.\n",
        "*   *avg_purchases_per_month* - среднее кол-во покупок в месяц.\n",
        "*   *avg_days_between_purchases* - среднее кол-во дней между покупками.\n",
        "*   *min_check* - минимальная сумма покупки.\n",
        "*   *max_check* - максимальная сумма покупки."
      ],
      "metadata": {
        "id": "n9X4DYCfLVmc"
      }
    },
    {
      "cell_type": "code",
      "execution_count": 33,
      "metadata": {
        "colab": {
          "base_uri": "https://localhost:8080/",
          "height": 0
        },
        "id": "cH7-XPNScjYO",
        "outputId": "9000993c-755d-4033-cfee-7f25b1a07b96"
      },
      "outputs": [
        {
          "output_type": "execute_result",
          "data": {
            "text/plain": [
              "                              client_id  target  total_purchases  \\\n",
              "0  193B4268-0B4A-475E-B1D0-FF5515E29D29   False              238   \n",
              "1  8DA65A37-C1D0-41D4-98E1-AB6C5BF1367F   False              282   \n",
              "2  26ACF3C8-25C8-4345-ABC2-33DA15EA6454    True               33   \n",
              "3  0F77DDB3-A9A7-44BE-AAAB-9DF59B66A695    True                3   \n",
              "4  F16BCF77-FA5A-4093-B7E3-FA86E2B1EA31   False              132   \n",
              "\n",
              "   avg_discount  avg_check  avg_purchases_per_month  \\\n",
              "0      3.847804   5.698391                19.833334   \n",
              "1      4.144737   5.203345                23.500000   \n",
              "2      5.036721   6.183657                 4.714286   \n",
              "3      0.000000   6.306149                 3.000000   \n",
              "4      1.569789   4.859021                11.000000   \n",
              "\n",
              "   avg_days_between_purchases  min_check  max_check  \n",
              "0                    1.464135   3.906005   8.067306  \n",
              "1                    1.234875   3.935740   7.250351  \n",
              "2                    6.031250   4.198705   7.400132  \n",
              "3                    3.500000   5.966147   6.587550  \n",
              "4                    2.625954   3.523415   6.678091  "
            ],
            "text/html": [
              "\n",
              "  <div id=\"df-96ff11ca-ab8d-46ce-8698-f2d8a30e0253\">\n",
              "    <div class=\"colab-df-container\">\n",
              "      <div>\n",
              "<style scoped>\n",
              "    .dataframe tbody tr th:only-of-type {\n",
              "        vertical-align: middle;\n",
              "    }\n",
              "\n",
              "    .dataframe tbody tr th {\n",
              "        vertical-align: top;\n",
              "    }\n",
              "\n",
              "    .dataframe thead th {\n",
              "        text-align: right;\n",
              "    }\n",
              "</style>\n",
              "<table border=\"1\" class=\"dataframe\">\n",
              "  <thead>\n",
              "    <tr style=\"text-align: right;\">\n",
              "      <th></th>\n",
              "      <th>client_id</th>\n",
              "      <th>target</th>\n",
              "      <th>total_purchases</th>\n",
              "      <th>avg_discount</th>\n",
              "      <th>avg_check</th>\n",
              "      <th>avg_purchases_per_month</th>\n",
              "      <th>avg_days_between_purchases</th>\n",
              "      <th>min_check</th>\n",
              "      <th>max_check</th>\n",
              "    </tr>\n",
              "  </thead>\n",
              "  <tbody>\n",
              "    <tr>\n",
              "      <th>0</th>\n",
              "      <td>193B4268-0B4A-475E-B1D0-FF5515E29D29</td>\n",
              "      <td>False</td>\n",
              "      <td>238</td>\n",
              "      <td>3.847804</td>\n",
              "      <td>5.698391</td>\n",
              "      <td>19.833334</td>\n",
              "      <td>1.464135</td>\n",
              "      <td>3.906005</td>\n",
              "      <td>8.067306</td>\n",
              "    </tr>\n",
              "    <tr>\n",
              "      <th>1</th>\n",
              "      <td>8DA65A37-C1D0-41D4-98E1-AB6C5BF1367F</td>\n",
              "      <td>False</td>\n",
              "      <td>282</td>\n",
              "      <td>4.144737</td>\n",
              "      <td>5.203345</td>\n",
              "      <td>23.500000</td>\n",
              "      <td>1.234875</td>\n",
              "      <td>3.935740</td>\n",
              "      <td>7.250351</td>\n",
              "    </tr>\n",
              "    <tr>\n",
              "      <th>2</th>\n",
              "      <td>26ACF3C8-25C8-4345-ABC2-33DA15EA6454</td>\n",
              "      <td>True</td>\n",
              "      <td>33</td>\n",
              "      <td>5.036721</td>\n",
              "      <td>6.183657</td>\n",
              "      <td>4.714286</td>\n",
              "      <td>6.031250</td>\n",
              "      <td>4.198705</td>\n",
              "      <td>7.400132</td>\n",
              "    </tr>\n",
              "    <tr>\n",
              "      <th>3</th>\n",
              "      <td>0F77DDB3-A9A7-44BE-AAAB-9DF59B66A695</td>\n",
              "      <td>True</td>\n",
              "      <td>3</td>\n",
              "      <td>0.000000</td>\n",
              "      <td>6.306149</td>\n",
              "      <td>3.000000</td>\n",
              "      <td>3.500000</td>\n",
              "      <td>5.966147</td>\n",
              "      <td>6.587550</td>\n",
              "    </tr>\n",
              "    <tr>\n",
              "      <th>4</th>\n",
              "      <td>F16BCF77-FA5A-4093-B7E3-FA86E2B1EA31</td>\n",
              "      <td>False</td>\n",
              "      <td>132</td>\n",
              "      <td>1.569789</td>\n",
              "      <td>4.859021</td>\n",
              "      <td>11.000000</td>\n",
              "      <td>2.625954</td>\n",
              "      <td>3.523415</td>\n",
              "      <td>6.678091</td>\n",
              "    </tr>\n",
              "  </tbody>\n",
              "</table>\n",
              "</div>\n",
              "      <button class=\"colab-df-convert\" onclick=\"convertToInteractive('df-96ff11ca-ab8d-46ce-8698-f2d8a30e0253')\"\n",
              "              title=\"Convert this dataframe to an interactive table.\"\n",
              "              style=\"display:none;\">\n",
              "        \n",
              "  <svg xmlns=\"http://www.w3.org/2000/svg\" height=\"24px\"viewBox=\"0 0 24 24\"\n",
              "       width=\"24px\">\n",
              "    <path d=\"M0 0h24v24H0V0z\" fill=\"none\"/>\n",
              "    <path d=\"M18.56 5.44l.94 2.06.94-2.06 2.06-.94-2.06-.94-.94-2.06-.94 2.06-2.06.94zm-11 1L8.5 8.5l.94-2.06 2.06-.94-2.06-.94L8.5 2.5l-.94 2.06-2.06.94zm10 10l.94 2.06.94-2.06 2.06-.94-2.06-.94-.94-2.06-.94 2.06-2.06.94z\"/><path d=\"M17.41 7.96l-1.37-1.37c-.4-.4-.92-.59-1.43-.59-.52 0-1.04.2-1.43.59L10.3 9.45l-7.72 7.72c-.78.78-.78 2.05 0 2.83L4 21.41c.39.39.9.59 1.41.59.51 0 1.02-.2 1.41-.59l7.78-7.78 2.81-2.81c.8-.78.8-2.07 0-2.86zM5.41 20L4 18.59l7.72-7.72 1.47 1.35L5.41 20z\"/>\n",
              "  </svg>\n",
              "      </button>\n",
              "      \n",
              "  <style>\n",
              "    .colab-df-container {\n",
              "      display:flex;\n",
              "      flex-wrap:wrap;\n",
              "      gap: 12px;\n",
              "    }\n",
              "\n",
              "    .colab-df-convert {\n",
              "      background-color: #E8F0FE;\n",
              "      border: none;\n",
              "      border-radius: 50%;\n",
              "      cursor: pointer;\n",
              "      display: none;\n",
              "      fill: #1967D2;\n",
              "      height: 32px;\n",
              "      padding: 0 0 0 0;\n",
              "      width: 32px;\n",
              "    }\n",
              "\n",
              "    .colab-df-convert:hover {\n",
              "      background-color: #E2EBFA;\n",
              "      box-shadow: 0px 1px 2px rgba(60, 64, 67, 0.3), 0px 1px 3px 1px rgba(60, 64, 67, 0.15);\n",
              "      fill: #174EA6;\n",
              "    }\n",
              "\n",
              "    [theme=dark] .colab-df-convert {\n",
              "      background-color: #3B4455;\n",
              "      fill: #D2E3FC;\n",
              "    }\n",
              "\n",
              "    [theme=dark] .colab-df-convert:hover {\n",
              "      background-color: #434B5C;\n",
              "      box-shadow: 0px 1px 3px 1px rgba(0, 0, 0, 0.15);\n",
              "      filter: drop-shadow(0px 1px 2px rgba(0, 0, 0, 0.3));\n",
              "      fill: #FFFFFF;\n",
              "    }\n",
              "  </style>\n",
              "\n",
              "      <script>\n",
              "        const buttonEl =\n",
              "          document.querySelector('#df-96ff11ca-ab8d-46ce-8698-f2d8a30e0253 button.colab-df-convert');\n",
              "        buttonEl.style.display =\n",
              "          google.colab.kernel.accessAllowed ? 'block' : 'none';\n",
              "\n",
              "        async function convertToInteractive(key) {\n",
              "          const element = document.querySelector('#df-96ff11ca-ab8d-46ce-8698-f2d8a30e0253');\n",
              "          const dataTable =\n",
              "            await google.colab.kernel.invokeFunction('convertToInteractive',\n",
              "                                                     [key], {});\n",
              "          if (!dataTable) return;\n",
              "\n",
              "          const docLinkHtml = 'Like what you see? Visit the ' +\n",
              "            '<a target=\"_blank\" href=https://colab.research.google.com/notebooks/data_table.ipynb>data table notebook</a>'\n",
              "            + ' to learn more about interactive tables.';\n",
              "          element.innerHTML = '';\n",
              "          dataTable['output_type'] = 'display_data';\n",
              "          await google.colab.output.renderOutput(dataTable, element);\n",
              "          const docLink = document.createElement('div');\n",
              "          docLink.innerHTML = docLinkHtml;\n",
              "          element.appendChild(docLink);\n",
              "        }\n",
              "      </script>\n",
              "    </div>\n",
              "  </div>\n",
              "  "
            ]
          },
          "metadata": {},
          "execution_count": 33
        }
      ],
      "source": [
        "data.head()"
      ]
    },
    {
      "cell_type": "code",
      "execution_count": 34,
      "metadata": {
        "colab": {
          "base_uri": "https://localhost:8080/"
        },
        "id": "iFnyesg8cjYO",
        "outputId": "445943c5-67b5-4d40-a58f-35be2cdfd101"
      },
      "outputs": [
        {
          "output_type": "stream",
          "name": "stdout",
          "text": [
            "<class 'pandas.core.frame.DataFrame'>\n",
            "RangeIndex: 149909 entries, 0 to 149908\n",
            "Data columns (total 9 columns):\n",
            " #   Column                      Non-Null Count   Dtype  \n",
            "---  ------                      --------------   -----  \n",
            " 0   client_id                   149909 non-null  object \n",
            " 1   target                      149909 non-null  bool   \n",
            " 2   total_purchases             149909 non-null  int32  \n",
            " 3   avg_discount                149909 non-null  float32\n",
            " 4   avg_check                   149909 non-null  float32\n",
            " 5   avg_purchases_per_month     149909 non-null  float32\n",
            " 6   avg_days_between_purchases  149909 non-null  float32\n",
            " 7   min_check                   149909 non-null  float32\n",
            " 8   max_check                   149909 non-null  float32\n",
            "dtypes: bool(1), float32(6), int32(1), object(1)\n",
            "memory usage: 5.3+ MB\n"
          ]
        }
      ],
      "source": [
        "data.info()"
      ]
    },
    {
      "cell_type": "markdown",
      "source": [
        "Посмотрим на распределения новых фичей."
      ],
      "metadata": {
        "id": "719SPPYk1Zze"
      }
    },
    {
      "cell_type": "code",
      "execution_count": 35,
      "metadata": {
        "colab": {
          "base_uri": "https://localhost:8080/",
          "height": 0
        },
        "id": "5vinwqlOcjYP",
        "outputId": "ac647b48-1bf5-4d54-9bf4-a808149e79d4"
      },
      "outputs": [
        {
          "output_type": "execute_result",
          "data": {
            "text/plain": [
              "<matplotlib.axes._subplots.AxesSubplot at 0x7fb5a9498f50>"
            ]
          },
          "metadata": {},
          "execution_count": 35
        },
        {
          "output_type": "display_data",
          "data": {
            "text/plain": [
              "<Figure size 864x648 with 1 Axes>"
            ],
            "image/png": "[encoded data removed]"
          },
          "metadata": {}
        }
      ],
      "source": [
        "plt.figure(figsize=(12, 9))\n",
        "plt.title('avg_check distribution')\n",
        "sns.histplot(data['avg_check'], bins=100)"
      ]
    },
    {
      "cell_type": "code",
      "execution_count": 36,
      "metadata": {
        "colab": {
          "base_uri": "https://localhost:8080/",
          "height": 0
        },
        "id": "SqijZsFQcjYP",
        "outputId": "0a79d48d-f66c-4815-f5e2-17272e12fa93"
      },
      "outputs": [
        {
          "output_type": "execute_result",
          "data": {
            "text/plain": [
              "<matplotlib.axes._subplots.AxesSubplot at 0x7fb5a070d610>"
            ]
          },
          "metadata": {},
          "execution_count": 36
        },
        {
          "output_type": "display_data",
          "data": {
            "text/plain": [
              "<Figure size 864x648 with 1 Axes>"
            ],
            "image/png": "[encoded data removed]"
          },
          "metadata": {}
        }
      ],
      "source": [
        "plt.figure(figsize=(12, 9))\n",
        "plt.title('avg_discount distribution')\n",
        "sns.histplot(data['avg_discount'], bins=20)"
      ]
    },
    {
      "cell_type": "code",
      "execution_count": 37,
      "metadata": {
        "colab": {
          "base_uri": "https://localhost:8080/",
          "height": 0
        },
        "id": "f0L_69-mcjYQ",
        "outputId": "0eb76105-e0ec-4b66-a10f-a4a94866b743"
      },
      "outputs": [
        {
          "output_type": "execute_result",
          "data": {
            "text/plain": [
              "<matplotlib.axes._subplots.AxesSubplot at 0x7fb5a9252110>"
            ]
          },
          "metadata": {},
          "execution_count": 37
        },
        {
          "output_type": "display_data",
          "data": {
            "text/plain": [
              "<Figure size 864x648 with 1 Axes>"
            ],
            "image/png": "[encoded data removed]"
          },
          "metadata": {}
        }
      ],
      "source": [
        "plt.figure(figsize=(12, 9))\n",
        "plt.title('avg_purchases_per_month distribution')\n",
        "sns.histplot(data['avg_purchases_per_month'], bins=15)"
      ]
    },
    {
      "cell_type": "code",
      "execution_count": 38,
      "metadata": {
        "colab": {
          "base_uri": "https://localhost:8080/",
          "height": 0
        },
        "id": "j_aLi3bTcjYQ",
        "outputId": "5762b52a-2fe9-412c-dfb6-daae1435cafd"
      },
      "outputs": [
        {
          "output_type": "execute_result",
          "data": {
            "text/plain": [
              "<matplotlib.axes._subplots.AxesSubplot at 0x7fb5a9216550>"
            ]
          },
          "metadata": {},
          "execution_count": 38
        },
        {
          "output_type": "display_data",
          "data": {
            "text/plain": [
              "<Figure size 864x648 with 1 Axes>"
            ],
            "image/png": "[encoded data removed]"
          },
          "metadata": {}
        }
      ],
      "source": [
        "plt.figure(figsize=(12, 9))\n",
        "plt.title('avg_days_between_purchases distribution')\n",
        "sns.histplot(data['avg_days_between_purchases'], bins=20)"
      ]
    },
    {
      "cell_type": "code",
      "source": [
        "plt.figure(figsize=(12, 9))\n",
        "plt.title('min_check distribution')\n",
        "sns.histplot(data['min_check'], bins=50)"
      ],
      "metadata": {
        "colab": {
          "base_uri": "https://localhost:8080/",
          "height": 0
        },
        "id": "B_4gosw3NqEO",
        "outputId": "ad4c0a89-0d22-47c4-e74a-77bc4587f2ab"
      },
      "execution_count": 39,
      "outputs": [
        {
          "output_type": "execute_result",
          "data": {
            "text/plain": [
              "<matplotlib.axes._subplots.AxesSubplot at 0x7fb5a8ca9e50>"
            ]
          },
          "metadata": {},
          "execution_count": 39
        },
        {
          "output_type": "display_data",
          "data": {
            "text/plain": [
              "<Figure size 864x648 with 1 Axes>"
            ],
            "image/png": "[encoded data removed]"
          },
          "metadata": {}
        }
      ]
    },
    {
      "cell_type": "code",
      "source": [
        "plt.figure(figsize=(12, 9))\n",
        "plt.title('max_check distribution')\n",
        "sns.histplot(data['max_check'], bins=50)"
      ],
      "metadata": {
        "colab": {
          "base_uri": "https://localhost:8080/",
          "height": 0
        },
        "id": "BYE1dLtANqGb",
        "outputId": "1318b957-3983-4fc9-b7e6-94abecc84444"
      },
      "execution_count": 40,
      "outputs": [
        {
          "output_type": "execute_result",
          "data": {
            "text/plain": [
              "<matplotlib.axes._subplots.AxesSubplot at 0x7fb5a91b8c90>"
            ]
          },
          "metadata": {},
          "execution_count": 40
        },
        {
          "output_type": "display_data",
          "data": {
            "text/plain": [
              "<Figure size 864x648 with 1 Axes>"
            ],
            "image/png": "[encoded data removed]"
          },
          "metadata": {}
        }
      ]
    },
    {
      "cell_type": "markdown",
      "source": [
        "Посмотрим на корреляции."
      ],
      "metadata": {
        "id": "t_q6_QKlD2xS"
      }
    },
    {
      "cell_type": "code",
      "source": [
        "plt.figure(figsize=(10, 8))\n",
        "sns.heatmap(data.corr(), annot=True, fmt=\".1f\")"
      ],
      "metadata": {
        "colab": {
          "base_uri": "https://localhost:8080/",
          "height": 0
        },
        "id": "89EHNVHiLFBb",
        "outputId": "2872323a-0302-4b47-d5dd-8d18450fa4a1"
      },
      "execution_count": 41,
      "outputs": [
        {
          "output_type": "execute_result",
          "data": {
            "text/plain": [
              "<matplotlib.axes._subplots.AxesSubplot at 0x7fb5a8cb4e90>"
            ]
          },
          "metadata": {},
          "execution_count": 41
        },
        {
          "output_type": "display_data",
          "data": {
            "text/plain": [
              "<Figure size 720x576 with 2 Axes>"
            ],
            "image/png": "[encoded data removed]"
          },
          "metadata": {}
        }
      ]
    },
    {
      "cell_type": "markdown",
      "source": [
        "Заметно, что есть корреляция между фичами total_pruchases и avg_purchases_per_month, также есть значимая корелляция между фичей avg_check и фичами min_check и max_check. Нет сильных корреляций между фичами и таргетом, поэтому использовать линейные модели для этой задачи будет не лучшей идеей."
      ],
      "metadata": {
        "id": "078RZKcvLkm9"
      }
    },
    {
      "cell_type": "markdown",
      "metadata": {
        "id": "6cf1HZ-KYYu3"
      },
      "source": [
        "# **Baseline**"
      ]
    },
    {
      "cell_type": "markdown",
      "metadata": {
        "id": "t7i20vL0_JDK"
      },
      "source": [
        "Для начала попробуем обучить случайный лес на двух фичах и посмотрим, какой скор выдаст моделька."
      ]
    },
    {
      "cell_type": "code",
      "execution_count": 42,
      "metadata": {
        "id": "R8smD6rJrblJ"
      },
      "outputs": [],
      "source": [
        "features = data.drop(['client_id', 'target'], axis = 1)\n",
        "target = data['target']"
      ]
    },
    {
      "cell_type": "markdown",
      "metadata": {
        "id": "t8lGc9xUvOku"
      },
      "source": [
        "Разделим датасет на две части - train и test."
      ]
    },
    {
      "cell_type": "code",
      "source": [
        "x_train, x_test, y_train, y_test = train_test_split(features, target, train_size=0.9, random_state=67)"
      ],
      "metadata": {
        "id": "oLw5gTEaikAX"
      },
      "execution_count": 43,
      "outputs": []
    },
    {
      "cell_type": "code",
      "execution_count": 44,
      "metadata": {
        "id": "H0ydvGKYiEPL"
      },
      "outputs": [],
      "source": [
        "model = RandomForestClassifier(random_state=67)"
      ]
    },
    {
      "cell_type": "markdown",
      "source": [
        "В качестве метрики возьмем AUC-ROC"
      ],
      "metadata": {
        "id": "5P334pVLF0Fa"
      }
    },
    {
      "cell_type": "code",
      "source": [
        "scores = cross_val_score(model, x_train, y_train, cv=3, scoring='roc_auc')\n",
        "print(scores)\n",
        "print('avg score:', scores.mean())"
      ],
      "metadata": {
        "colab": {
          "base_uri": "https://localhost:8080/"
        },
        "id": "lTwkRNB1ixim",
        "outputId": "02955766-5551-48ff-bc97-d2b2e3ba9fdf"
      },
      "execution_count": 45,
      "outputs": [
        {
          "output_type": "stream",
          "name": "stdout",
          "text": [
            "[0.7320804  0.73841756 0.73260824]\n",
            "avg score: 0.7343687349361403\n"
          ]
        }
      ]
    },
    {
      "cell_type": "markdown",
      "metadata": {
        "id": "S9TDXBPR-eWO"
      },
      "source": [
        "# **Modeling**"
      ]
    },
    {
      "cell_type": "markdown",
      "metadata": {
        "id": "Pvai4Q22FgtM"
      },
      "source": [
        "Протестируем различные модели: LogisticRegression, XGBClassifier и RandomForestClassifier."
      ]
    },
    {
      "cell_type": "code",
      "execution_count": 46,
      "metadata": {
        "id": "V2bx8H8p7qRF"
      },
      "outputs": [],
      "source": [
        "models = {'Logistic Regression':LogisticRegression(max_iter=1000),\n",
        "          'Random forest': RandomForestClassifier(random_state=67),\n",
        "          'Xgboost': XGBClassifier(random_state=67, tree_method='gpu_hist')\n",
        "         }"
      ]
    },
    {
      "cell_type": "code",
      "source": [
        "for model_name, current_model in models.items():\n",
        "    model = current_model\n",
        "    scores = cross_val_score(model, x_train, y_train, cv=5, scoring='roc_auc')\n",
        "    print(model_name,':', scores.mean(), '(avg)')"
      ],
      "metadata": {
        "colab": {
          "base_uri": "https://localhost:8080/"
        },
        "id": "NPGJaMnmqWgF",
        "outputId": "da15b8b1-b068-491a-a8d3-e0d76bd1bb2a"
      },
      "execution_count": 47,
      "outputs": [
        {
          "output_type": "stream",
          "name": "stdout",
          "text": [
            "Logistic Regression : 0.7027278500744385 (avg)\n",
            "Random forest : 0.7353272940452888 (avg)\n",
            "Xgboost : 0.7479135927880594 (avg)\n"
          ]
        }
      ]
    },
    {
      "cell_type": "markdown",
      "source": [
        "Xgboost показал  себя лучше остальных, поэтому возьмем его в качестве основной модели и приступим к подбору гиперпараметров."
      ],
      "metadata": {
        "id": "5_X6wlyr3AGs"
      }
    },
    {
      "cell_type": "markdown",
      "source": [
        "**Hyperparameter tuning**"
      ],
      "metadata": {
        "id": "Mt5mHw2NFejT"
      }
    },
    {
      "cell_type": "code",
      "source": [
        "model = XGBClassifier(tree_method='gpu_hist', random_state=67)"
      ],
      "metadata": {
        "id": "Z0fuAgKc0At6"
      },
      "execution_count": 48,
      "outputs": []
    },
    {
      "cell_type": "code",
      "source": [
        "xgb_params = {\n",
        "    'learning_rate': np.arange(0.05, 0.31, 0.05),\n",
        "    'max_depth': np.arange(5, 16, 1, dtype=int),\n",
        "    'min_child_weight': np.arange(1, 8, 1, dtype=int),\n",
        "    'colsample_bytree': np.arange(0.3, 0.8, 0.1),\n",
        "    'subsample': [0.8, 1],\n",
        "    'n_estimators': np.arange(100, 500, 25)\n",
        "}"
      ],
      "metadata": {
        "id": "g9jHY2-7_WyD"
      },
      "execution_count": 49,
      "outputs": []
    },
    {
      "cell_type": "code",
      "source": [
        "rs_model = RandomizedSearchCV(model, \n",
        "                              param_distributions=xgb_params, \n",
        "                              scoring='roc_auc', \n",
        "                              random_state=67,\n",
        "                              n_iter=50,\n",
        "                              n_jobs=-1,\n",
        "                              verbose=3, \n",
        "                              cv=3\n",
        "                             )\n",
        "rs_model.fit(x_train, y_train)\n",
        "rs_model.best_params_"
      ],
      "metadata": {
        "colab": {
          "base_uri": "https://localhost:8080/"
        },
        "id": "gLQo96CnzUXf",
        "outputId": "ddd08bdb-c8f1-4e6b-d0f2-0c2e10b57599"
      },
      "execution_count": 50,
      "outputs": [
        {
          "output_type": "stream",
          "name": "stdout",
          "text": [
            "Fitting 3 folds for each of 50 candidates, totalling 150 fits\n"
          ]
        },
        {
          "output_type": "execute_result",
          "data": {
            "text/plain": [
              "{'colsample_bytree': 0.6000000000000001,\n",
              " 'learning_rate': 0.05,\n",
              " 'max_depth': 8,\n",
              " 'min_child_weight': 1,\n",
              " 'n_estimators': 225,\n",
              " 'subsample': 0.8}"
            ]
          },
          "metadata": {},
          "execution_count": 50
        }
      ]
    },
    {
      "cell_type": "code",
      "source": [
        "model = rs_model.best_estimator_\n",
        "model.fit(x_train, y_train)"
      ],
      "metadata": {
        "id": "Ht8ScJ7FfBsn",
        "colab": {
          "base_uri": "https://localhost:8080/"
        },
        "outputId": "c2f0f25e-d31b-49e0-ced6-233f08574eca"
      },
      "execution_count": 51,
      "outputs": [
        {
          "output_type": "execute_result",
          "data": {
            "text/plain": [
              "XGBClassifier(colsample_bytree=0.6000000000000001, learning_rate=0.05,\n",
              "              max_depth=8, n_estimators=225, random_state=67, subsample=0.8,\n",
              "              tree_method='gpu_hist')"
            ]
          },
          "metadata": {},
          "execution_count": 51
        }
      ]
    },
    {
      "cell_type": "markdown",
      "source": [
        "Теперь проверим модель на тестовой выборке."
      ],
      "metadata": {
        "id": "f40E3xOjPqne"
      }
    },
    {
      "cell_type": "code",
      "source": [
        "probs = model.predict_proba(x_test)\n",
        "preds = probs[:,1]\n",
        "fpr, tpr, threshold = roc_curve(y_test, preds)\n",
        "roc_auc = auc(fpr, tpr)\n",
        "\n",
        "plt.figure(figsize=(9, 6))\n",
        "plt.title('ROC')\n",
        "plt.plot(fpr, tpr, 'b', label = 'AUC = %0.3f' % roc_auc)\n",
        "plt.legend(loc = 'lower right')\n",
        "plt.plot([0, 1], [0, 1],'r--')\n",
        "plt.xlim([0, 1])\n",
        "plt.ylim([0, 1])\n",
        "plt.ylabel('True Positive Rate')\n",
        "plt.xlabel('False Positive Rate')\n",
        "plt.show()"
      ],
      "metadata": {
        "id": "19sqjaiWxZ3_",
        "colab": {
          "base_uri": "https://localhost:8080/",
          "height": 410
        },
        "outputId": "e8981240-7498-4c17-b5bf-0a9a09e96e4d"
      },
      "execution_count": 52,
      "outputs": [
        {
          "output_type": "display_data",
          "data": {
            "text/plain": [
              "<Figure size 648x432 with 1 Axes>"
            ],
            "image/png": "[encoded data removed]"
          },
          "metadata": {}
        }
      ]
    },
    {
      "cell_type": "markdown",
      "source": [
        "# **Results**"
      ],
      "metadata": {
        "id": "OD3PkaIE-BP1"
      }
    },
    {
      "cell_type": "markdown",
      "source": [
        "Теперь приступим к анализу нашей модели. Для этого воcпользуемся библиотекой shap."
      ],
      "metadata": {
        "id": "j8GPDo9D3WBP"
      }
    },
    {
      "cell_type": "code",
      "source": [
        "x_train_and_test = pd.concat([x_train, x_test])\n",
        "y_train_and_test = pd.concat([y_train, y_test])"
      ],
      "metadata": {
        "id": "f0ZbbbI13SP4"
      },
      "execution_count": 53,
      "outputs": []
    },
    {
      "cell_type": "code",
      "source": [
        "model = XGBClassifier(colsample_bytree=0.6, \n",
        "                      learning_rate=0.05,\n",
        "                      n_estimators=225,  \n",
        "                      random_state=67,\n",
        "                      subsample=0.8,\n",
        "                      max_depth=8\n",
        "                     )\n",
        "model.fit(x_train_and_test, y_train_and_test)"
      ],
      "metadata": {
        "colab": {
          "base_uri": "https://localhost:8080/"
        },
        "id": "zRrfFvvk3oC3",
        "outputId": "10573e26-46fc-42f2-b7db-3741f7ae42e7"
      },
      "execution_count": 54,
      "outputs": [
        {
          "output_type": "execute_result",
          "data": {
            "text/plain": [
              "XGBClassifier(colsample_bytree=0.6, learning_rate=0.05, max_depth=8,\n",
              "              n_estimators=225, random_state=67, subsample=0.8)"
            ]
          },
          "metadata": {},
          "execution_count": 54
        }
      ]
    },
    {
      "cell_type": "code",
      "source": [
        "explainer = shap.TreeExplainer(model)\n",
        "shap_values = explainer.shap_values(x_train_and_test)"
      ],
      "metadata": {
        "id": "jY3poA2ggXjS"
      },
      "execution_count": 55,
      "outputs": []
    },
    {
      "cell_type": "code",
      "source": [
        "shap.summary_plot(shap_values, x_train_and_test)"
      ],
      "metadata": {
        "colab": {
          "base_uri": "https://localhost:8080/",
          "height": 305
        },
        "id": "1p777hn4AgT0",
        "outputId": "e706e2b3-f03e-4cc5-e2f8-4a815d17b962"
      },
      "execution_count": 56,
      "outputs": [
        {
          "output_type": "display_data",
          "data": {
            "text/plain": [
              "<Figure size 576x309.6 with 2 Axes>"
            ],
            "image/png": "[encoded data removed]"
          },
          "metadata": {}
        }
      ]
    },
    {
      "cell_type": "markdown",
      "source": [
        "Из данного графика видно, что при высоких значениях фичей total_purchases, avg_check модель склоняется к тому, что клиент не уйдет в отток, а при низких значениях фичей total_purchases, min_check и при высоких значениях avg_days_between_purchases, avg_purchases_per_month модель склоняется к тому, что клиент уйдет в отток."
      ],
      "metadata": {
        "id": "LOt_jcLC6cIt"
      }
    },
    {
      "cell_type": "markdown",
      "source": [
        "Теперь посмотрим на значимость фичей."
      ],
      "metadata": {
        "id": "dPY3qcZM9tPO"
      }
    },
    {
      "cell_type": "code",
      "source": [
        "shap.summary_plot(shap_values, x_train, plot_type=\"bar\")"
      ],
      "metadata": {
        "colab": {
          "base_uri": "https://localhost:8080/",
          "height": 301
        },
        "id": "kaD8oKNqDlLq",
        "outputId": "408f5bbe-982f-496e-e3ee-a8f99950752a"
      },
      "execution_count": 57,
      "outputs": [
        {
          "output_type": "display_data",
          "data": {
            "text/plain": [
              "<Figure size 576x309.6 with 1 Axes>"
            ],
            "image/png": "[encoded data removed]"
          },
          "metadata": {}
        }
      ]
    },
    {
      "cell_type": "markdown",
      "source": [
        "По графику видно что топ-3 самых значимых параметра для модели: суммарное кол-во покупок, среднее кол-во дней между покупками и средняя скидка."
      ],
      "metadata": {
        "id": "mnP_Ceux9xVN"
      }
    },
    {
      "cell_type": "markdown",
      "source": [
        "# **Conclusion**"
      ],
      "metadata": {
        "id": "G0MO_DuK6cru"
      }
    },
    {
      "cell_type": "markdown",
      "source": [
        "**Была проделана огромная работа. Данные были изучены и предобработаны, был проведен исследовательский анализ данных, были написаны функции для удобной генерации новых фичей, были протестированы различные модели и у основной модели был произведен подбор гиперпараметров. Также после обучения модели была произведеен анализ обученной модели: было изучено влияние значений фичей на предсказания модели, а также были изучены фичи, которые сильнее всего влияли на предсказания модели. Если бы были данные о самом покупателе и о позициях в чеке, то тогда результат модели был бы выше, но даже при минимальном наборе информации (дата покупки, сумма покупки, сумма скидки) удалось достичь результата в 0.765 по метрике AUC-ROC. Внедрение данной подели в продакшн позволит компании снизить отток и тем самым увеличить доход.**"
      ],
      "metadata": {
        "id": "AxSRDT4--GgY"
      }
    }
  ],
  "metadata": {
    "colab": {
      "collapsed_sections": [
        "E39YELvHYvs0",
        "iikiAJL2YnTE",
        "bE02cdjQIX6p",
        "6cf1HZ-KYYu3"
      ],
      "name": "patissiere.ipynb",
      "provenance": [],
      "include_colab_link": true
    },
    "kernelspec": {
      "display_name": "Python 3",
      "language": "python",
      "name": "python3"
    },
    "language_info": {
      "codemirror_mode": {
        "name": "ipython",
        "version": 3
      },
      "file_extension": ".py",
      "mimetype": "text/x-python",
      "name": "python",
      "nbconvert_exporter": "python",
      "pygments_lexer": "ipython3",
      "version": "3.8.8"
    },
    "accelerator": "GPU"
  },
  "nbformat": 4,
  "nbformat_minor": 0
}